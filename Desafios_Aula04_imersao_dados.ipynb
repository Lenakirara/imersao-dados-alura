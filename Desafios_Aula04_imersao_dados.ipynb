{
  "nbformat": 4,
  "nbformat_minor": 0,
  "metadata": {
    "colab": {
      "name": "Desafios_Aula04_imersao_dados.ipynb",
      "provenance": [],
      "collapsed_sections": [],
      "authorship_tag": "ABX9TyMs0bJgDHzHJtTPiuyhb/Ce",
      "include_colab_link": true
    },
    "kernelspec": {
      "name": "python3",
      "display_name": "Python 3"
    }
  },
  "cells": [
    {
      "cell_type": "markdown",
      "metadata": {
        "id": "view-in-github",
        "colab_type": "text"
      },
      "source": [
        "<a href=\"https://colab.research.google.com/github/Lenakirara/imersao-dados-alura/blob/main/Desafios_Aula04_imersao_dados.ipynb\" target=\"_parent\"><img src=\"https://colab.research.google.com/assets/colab-badge.svg\" alt=\"Open In Colab\"/></a>"
      ]
    },
    {
      "cell_type": "markdown",
      "metadata": {
        "id": "CNnKnH39ADpS"
      },
      "source": [
        "# Desafios aula 04 - Machine Learning"
      ]
    },
    {
      "cell_type": "code",
      "metadata": {
        "id": "MYehkR7C_bwi",
        "outputId": "2b7efd3f-3633-4718-8c8f-e3fb76ebee2d",
        "colab": {
          "base_uri": "https://localhost:8080/",
          "height": 129
        }
      },
      "source": [
        "import pandas as pd\n",
        "import matplotlib.pyplot as plt\n",
        "import seaborn as sns\n",
        "\n",
        "fonte = \"https://github.com/alura-cursos/imersao-dados-2-2020/blob/master/MICRODADOS_ENEM_2019_SAMPLE_43278.csv?raw=true\"\n",
        "\n",
        "dados = pd.read_csv(fonte)\n",
        "dados.head(1)"
      ],
      "execution_count": 12,
      "outputs": [
        {
          "output_type": "execute_result",
          "data": {
            "text/html": [
              "<div>\n",
              "<style scoped>\n",
              "    .dataframe tbody tr th:only-of-type {\n",
              "        vertical-align: middle;\n",
              "    }\n",
              "\n",
              "    .dataframe tbody tr th {\n",
              "        vertical-align: top;\n",
              "    }\n",
              "\n",
              "    .dataframe thead th {\n",
              "        text-align: right;\n",
              "    }\n",
              "</style>\n",
              "<table border=\"1\" class=\"dataframe\">\n",
              "  <thead>\n",
              "    <tr style=\"text-align: right;\">\n",
              "      <th></th>\n",
              "      <th>NU_INSCRICAO</th>\n",
              "      <th>NU_ANO</th>\n",
              "      <th>CO_MUNICIPIO_RESIDENCIA</th>\n",
              "      <th>NO_MUNICIPIO_RESIDENCIA</th>\n",
              "      <th>CO_UF_RESIDENCIA</th>\n",
              "      <th>SG_UF_RESIDENCIA</th>\n",
              "      <th>NU_IDADE</th>\n",
              "      <th>TP_SEXO</th>\n",
              "      <th>TP_ESTADO_CIVIL</th>\n",
              "      <th>TP_COR_RACA</th>\n",
              "      <th>TP_NACIONALIDADE</th>\n",
              "      <th>CO_MUNICIPIO_NASCIMENTO</th>\n",
              "      <th>NO_MUNICIPIO_NASCIMENTO</th>\n",
              "      <th>CO_UF_NASCIMENTO</th>\n",
              "      <th>SG_UF_NASCIMENTO</th>\n",
              "      <th>TP_ST_CONCLUSAO</th>\n",
              "      <th>TP_ANO_CONCLUIU</th>\n",
              "      <th>TP_ESCOLA</th>\n",
              "      <th>TP_ENSINO</th>\n",
              "      <th>IN_TREINEIRO</th>\n",
              "      <th>CO_ESCOLA</th>\n",
              "      <th>CO_MUNICIPIO_ESC</th>\n",
              "      <th>NO_MUNICIPIO_ESC</th>\n",
              "      <th>CO_UF_ESC</th>\n",
              "      <th>SG_UF_ESC</th>\n",
              "      <th>TP_DEPENDENCIA_ADM_ESC</th>\n",
              "      <th>TP_LOCALIZACAO_ESC</th>\n",
              "      <th>TP_SIT_FUNC_ESC</th>\n",
              "      <th>IN_BAIXA_VISAO</th>\n",
              "      <th>IN_CEGUEIRA</th>\n",
              "      <th>IN_SURDEZ</th>\n",
              "      <th>IN_DEFICIENCIA_AUDITIVA</th>\n",
              "      <th>IN_SURDO_CEGUEIRA</th>\n",
              "      <th>IN_DEFICIENCIA_FISICA</th>\n",
              "      <th>IN_DEFICIENCIA_MENTAL</th>\n",
              "      <th>IN_DEFICIT_ATENCAO</th>\n",
              "      <th>IN_DISLEXIA</th>\n",
              "      <th>IN_DISCALCULIA</th>\n",
              "      <th>IN_AUTISMO</th>\n",
              "      <th>IN_VISAO_MONOCULAR</th>\n",
              "      <th>...</th>\n",
              "      <th>TX_RESPOSTAS_CH</th>\n",
              "      <th>TX_RESPOSTAS_LC</th>\n",
              "      <th>TX_RESPOSTAS_MT</th>\n",
              "      <th>TP_LINGUA</th>\n",
              "      <th>TX_GABARITO_CN</th>\n",
              "      <th>TX_GABARITO_CH</th>\n",
              "      <th>TX_GABARITO_LC</th>\n",
              "      <th>TX_GABARITO_MT</th>\n",
              "      <th>TP_STATUS_REDACAO</th>\n",
              "      <th>NU_NOTA_COMP1</th>\n",
              "      <th>NU_NOTA_COMP2</th>\n",
              "      <th>NU_NOTA_COMP3</th>\n",
              "      <th>NU_NOTA_COMP4</th>\n",
              "      <th>NU_NOTA_COMP5</th>\n",
              "      <th>NU_NOTA_REDACAO</th>\n",
              "      <th>Q001</th>\n",
              "      <th>Q002</th>\n",
              "      <th>Q003</th>\n",
              "      <th>Q004</th>\n",
              "      <th>Q005</th>\n",
              "      <th>Q006</th>\n",
              "      <th>Q007</th>\n",
              "      <th>Q008</th>\n",
              "      <th>Q009</th>\n",
              "      <th>Q010</th>\n",
              "      <th>Q011</th>\n",
              "      <th>Q012</th>\n",
              "      <th>Q013</th>\n",
              "      <th>Q014</th>\n",
              "      <th>Q015</th>\n",
              "      <th>Q016</th>\n",
              "      <th>Q017</th>\n",
              "      <th>Q018</th>\n",
              "      <th>Q019</th>\n",
              "      <th>Q020</th>\n",
              "      <th>Q021</th>\n",
              "      <th>Q022</th>\n",
              "      <th>Q023</th>\n",
              "      <th>Q024</th>\n",
              "      <th>Q025</th>\n",
              "    </tr>\n",
              "  </thead>\n",
              "  <tbody>\n",
              "    <tr>\n",
              "      <th>0</th>\n",
              "      <td>190001004661</td>\n",
              "      <td>2019</td>\n",
              "      <td>1506138</td>\n",
              "      <td>Redenção</td>\n",
              "      <td>15</td>\n",
              "      <td>PA</td>\n",
              "      <td>17</td>\n",
              "      <td>M</td>\n",
              "      <td>1</td>\n",
              "      <td>3</td>\n",
              "      <td>1</td>\n",
              "      <td>1506138.0</td>\n",
              "      <td>Redenção</td>\n",
              "      <td>15.0</td>\n",
              "      <td>PA</td>\n",
              "      <td>3</td>\n",
              "      <td>0</td>\n",
              "      <td>1</td>\n",
              "      <td>NaN</td>\n",
              "      <td>1</td>\n",
              "      <td>NaN</td>\n",
              "      <td>NaN</td>\n",
              "      <td>NaN</td>\n",
              "      <td>NaN</td>\n",
              "      <td>NaN</td>\n",
              "      <td>NaN</td>\n",
              "      <td>NaN</td>\n",
              "      <td>NaN</td>\n",
              "      <td>0</td>\n",
              "      <td>0</td>\n",
              "      <td>0</td>\n",
              "      <td>0</td>\n",
              "      <td>0</td>\n",
              "      <td>0</td>\n",
              "      <td>0</td>\n",
              "      <td>0</td>\n",
              "      <td>0</td>\n",
              "      <td>0</td>\n",
              "      <td>0</td>\n",
              "      <td>0</td>\n",
              "      <td>...</td>\n",
              "      <td>ACAEAAACABEBABAADCEEEDE*CBDCCCADADCCCBEBBBBDB</td>\n",
              "      <td>99999CCCABBCAADDBCEBCCADBEEBDECBAABDEACACAEABB...</td>\n",
              "      <td>DEEDCAECDDEEECBCBECABEBAECBBCDAECAEBBBBBDCCDB</td>\n",
              "      <td>1</td>\n",
              "      <td>DEADBAAAEBEECEBCBCBCBDADAEABCEDDDDADCBEECACBC</td>\n",
              "      <td>ACACEEBCCBABADBBBACDBBACCCCADCEBADCBEEDBBEADB</td>\n",
              "      <td>EBBADCABDABACBCEBDEEAAADDBECDECDDBADBCDAAECBCC...</td>\n",
              "      <td>AADDDBEEEBEDDBEBACABCDBABECECACAECDCBDCCEDCDA</td>\n",
              "      <td>1.0</td>\n",
              "      <td>60.0</td>\n",
              "      <td>100.0</td>\n",
              "      <td>80.0</td>\n",
              "      <td>80.0</td>\n",
              "      <td>100.0</td>\n",
              "      <td>420.0</td>\n",
              "      <td>B</td>\n",
              "      <td>B</td>\n",
              "      <td>A</td>\n",
              "      <td>A</td>\n",
              "      <td>4</td>\n",
              "      <td>B</td>\n",
              "      <td>A</td>\n",
              "      <td>C</td>\n",
              "      <td>B</td>\n",
              "      <td>A</td>\n",
              "      <td>C</td>\n",
              "      <td>B</td>\n",
              "      <td>A</td>\n",
              "      <td>A</td>\n",
              "      <td>A</td>\n",
              "      <td>A</td>\n",
              "      <td>A</td>\n",
              "      <td>A</td>\n",
              "      <td>A</td>\n",
              "      <td>B</td>\n",
              "      <td>A</td>\n",
              "      <td>C</td>\n",
              "      <td>A</td>\n",
              "      <td>B</td>\n",
              "      <td>B</td>\n",
              "    </tr>\n",
              "  </tbody>\n",
              "</table>\n",
              "<p>1 rows × 136 columns</p>\n",
              "</div>"
            ],
            "text/plain": [
              "   NU_INSCRICAO  NU_ANO  CO_MUNICIPIO_RESIDENCIA  ... Q023  Q024 Q025\n",
              "0  190001004661    2019                  1506138  ...    A     B    B\n",
              "\n",
              "[1 rows x 136 columns]"
            ]
          },
          "metadata": {
            "tags": []
          },
          "execution_count": 12
        }
      ]
    },
    {
      "cell_type": "code",
      "metadata": {
        "id": "LN8cRukTEOoT"
      },
      "source": [
        "provas = [\"NU_NOTA_CN\",\"NU_NOTA_CH\",\"NU_NOTA_MT\",\"NU_NOTA_LC\",\"NU_NOTA_REDACAO\"]"
      ],
      "execution_count": 13,
      "outputs": []
    },
    {
      "cell_type": "code",
      "metadata": {
        "id": "RevduxEDEP9d"
      },
      "source": [
        "dados[\"NU_NOTA_TOTAL\"] = dados[provas].sum(axis=1)"
      ],
      "execution_count": 14,
      "outputs": []
    },
    {
      "cell_type": "code",
      "metadata": {
        "id": "VeY6LUkAEURU"
      },
      "source": [
        "sem_notas_zero = dados.query(\"NU_NOTA_TOTAL != 0\")"
      ],
      "execution_count": 15,
      "outputs": []
    },
    {
      "cell_type": "code",
      "metadata": {
        "id": "KvfmxdEsEYOu"
      },
      "source": [
        "provas_entrada = ['NU_NOTA_CH', 'NU_NOTA_LC', 'NU_NOTA_CN', 'NU_NOTA_REDACAO'] \n",
        "provas_saida = 'NU_NOTA_MT'\n",
        "sem_notas_zero = sem_notas_zero[provas].dropna()\n",
        "notas_entrada = sem_notas_zero[provas_entrada]\n",
        "notas_saida = sem_notas_zero[provas_saida]"
      ],
      "execution_count": 16,
      "outputs": []
    },
    {
      "cell_type": "code",
      "metadata": {
        "id": "WzLRNF9TEcfF",
        "outputId": "735ae20c-578b-4a11-e077-2e4bbb43161e",
        "colab": {
          "base_uri": "https://localhost:8080/",
          "height": 419
        }
      },
      "source": [
        "notas_entrada"
      ],
      "execution_count": 17,
      "outputs": [
        {
          "output_type": "execute_result",
          "data": {
            "text/html": [
              "<div>\n",
              "<style scoped>\n",
              "    .dataframe tbody tr th:only-of-type {\n",
              "        vertical-align: middle;\n",
              "    }\n",
              "\n",
              "    .dataframe tbody tr th {\n",
              "        vertical-align: top;\n",
              "    }\n",
              "\n",
              "    .dataframe thead th {\n",
              "        text-align: right;\n",
              "    }\n",
              "</style>\n",
              "<table border=\"1\" class=\"dataframe\">\n",
              "  <thead>\n",
              "    <tr style=\"text-align: right;\">\n",
              "      <th></th>\n",
              "      <th>NU_NOTA_CH</th>\n",
              "      <th>NU_NOTA_LC</th>\n",
              "      <th>NU_NOTA_CN</th>\n",
              "      <th>NU_NOTA_REDACAO</th>\n",
              "    </tr>\n",
              "  </thead>\n",
              "  <tbody>\n",
              "    <tr>\n",
              "      <th>0</th>\n",
              "      <td>512.3</td>\n",
              "      <td>488.6</td>\n",
              "      <td>435.6</td>\n",
              "      <td>420.0</td>\n",
              "    </tr>\n",
              "    <tr>\n",
              "      <th>2</th>\n",
              "      <td>499.1</td>\n",
              "      <td>441.0</td>\n",
              "      <td>423.2</td>\n",
              "      <td>560.0</td>\n",
              "    </tr>\n",
              "    <tr>\n",
              "      <th>3</th>\n",
              "      <td>578.1</td>\n",
              "      <td>551.5</td>\n",
              "      <td>426.2</td>\n",
              "      <td>500.0</td>\n",
              "    </tr>\n",
              "    <tr>\n",
              "      <th>4</th>\n",
              "      <td>571.3</td>\n",
              "      <td>511.2</td>\n",
              "      <td>516.5</td>\n",
              "      <td>780.0</td>\n",
              "    </tr>\n",
              "    <tr>\n",
              "      <th>5</th>\n",
              "      <td>618.7</td>\n",
              "      <td>607.5</td>\n",
              "      <td>559.6</td>\n",
              "      <td>900.0</td>\n",
              "    </tr>\n",
              "    <tr>\n",
              "      <th>...</th>\n",
              "      <td>...</td>\n",
              "      <td>...</td>\n",
              "      <td>...</td>\n",
              "      <td>...</td>\n",
              "    </tr>\n",
              "    <tr>\n",
              "      <th>127373</th>\n",
              "      <td>501.5</td>\n",
              "      <td>485.3</td>\n",
              "      <td>480.4</td>\n",
              "      <td>520.0</td>\n",
              "    </tr>\n",
              "    <tr>\n",
              "      <th>127375</th>\n",
              "      <td>559.6</td>\n",
              "      <td>525.7</td>\n",
              "      <td>502.4</td>\n",
              "      <td>740.0</td>\n",
              "    </tr>\n",
              "    <tr>\n",
              "      <th>127376</th>\n",
              "      <td>380.9</td>\n",
              "      <td>450.3</td>\n",
              "      <td>449.1</td>\n",
              "      <td>520.0</td>\n",
              "    </tr>\n",
              "    <tr>\n",
              "      <th>127378</th>\n",
              "      <td>416.2</td>\n",
              "      <td>517.3</td>\n",
              "      <td>564.7</td>\n",
              "      <td>620.0</td>\n",
              "    </tr>\n",
              "    <tr>\n",
              "      <th>127379</th>\n",
              "      <td>425.5</td>\n",
              "      <td>477.1</td>\n",
              "      <td>466.7</td>\n",
              "      <td>480.0</td>\n",
              "    </tr>\n",
              "  </tbody>\n",
              "</table>\n",
              "<p>92537 rows × 4 columns</p>\n",
              "</div>"
            ],
            "text/plain": [
              "        NU_NOTA_CH  NU_NOTA_LC  NU_NOTA_CN  NU_NOTA_REDACAO\n",
              "0            512.3       488.6       435.6            420.0\n",
              "2            499.1       441.0       423.2            560.0\n",
              "3            578.1       551.5       426.2            500.0\n",
              "4            571.3       511.2       516.5            780.0\n",
              "5            618.7       607.5       559.6            900.0\n",
              "...            ...         ...         ...              ...\n",
              "127373       501.5       485.3       480.4            520.0\n",
              "127375       559.6       525.7       502.4            740.0\n",
              "127376       380.9       450.3       449.1            520.0\n",
              "127378       416.2       517.3       564.7            620.0\n",
              "127379       425.5       477.1       466.7            480.0\n",
              "\n",
              "[92537 rows x 4 columns]"
            ]
          },
          "metadata": {
            "tags": []
          },
          "execution_count": 17
        }
      ]
    },
    {
      "cell_type": "code",
      "metadata": {
        "id": "03y5aEz1ErlQ"
      },
      "source": [
        "x = notas_entrada\n",
        "y = notas_saida"
      ],
      "execution_count": 18,
      "outputs": []
    },
    {
      "cell_type": "code",
      "metadata": {
        "id": "KF_9oc2tE5zX"
      },
      "source": [
        "from sklearn.model_selection import train_test_split\n",
        "\n",
        "SEED = 45\n",
        "\n",
        "x_treino, x_teste, y_treino, y_teste = train_test_split(x, y, test_size = 0.25,\n",
        "                                                        random_state=SEED)"
      ],
      "execution_count": 19,
      "outputs": []
    },
    {
      "cell_type": "markdown",
      "metadata": {
        "id": "YRTW-t9VAHvv"
      },
      "source": [
        "### Desafio 01: Procurar outro modelo de ML para treinar e comparar com os modelos criados em aula\n",
        "\n"
      ]
    },
    {
      "cell_type": "code",
      "metadata": {
        "id": "Tfz5N6iAGeHs"
      },
      "source": [
        "# usando modelo RandomForestRegressor\n",
        "from sklearn.ensemble import RandomForestRegressor\n",
        "# criando o modelo\n",
        "modelo_rfr = RandomForestRegressor()"
      ],
      "execution_count": 20,
      "outputs": []
    },
    {
      "cell_type": "code",
      "metadata": {
        "id": "RtlQDGZQIbfy",
        "outputId": "09f2d291-51cd-47e8-dd31-7175dfe0da70",
        "colab": {
          "base_uri": "https://localhost:8080/",
          "height": 136
        }
      },
      "source": [
        "modelo_rfr.fit(x_treino, y_treino)"
      ],
      "execution_count": 21,
      "outputs": [
        {
          "output_type": "execute_result",
          "data": {
            "text/plain": [
              "RandomForestRegressor(bootstrap=True, ccp_alpha=0.0, criterion='mse',\n",
              "                      max_depth=None, max_features='auto', max_leaf_nodes=None,\n",
              "                      max_samples=None, min_impurity_decrease=0.0,\n",
              "                      min_impurity_split=None, min_samples_leaf=1,\n",
              "                      min_samples_split=2, min_weight_fraction_leaf=0.0,\n",
              "                      n_estimators=100, n_jobs=None, oob_score=False,\n",
              "                      random_state=None, verbose=0, warm_start=False)"
            ]
          },
          "metadata": {
            "tags": []
          },
          "execution_count": 21
        }
      ]
    },
    {
      "cell_type": "code",
      "metadata": {
        "id": "6vKWMMzGI0Q4"
      },
      "source": [
        "# previsão do modelo com referencia nota matematica\n",
        "pred_rfr_mt = modelo_rfr.predict(x_teste)"
      ],
      "execution_count": 22,
      "outputs": []
    },
    {
      "cell_type": "code",
      "metadata": {
        "id": "32GL91aaJY3j",
        "outputId": "8adbf968-c361-443e-e1bf-155b07e8976c",
        "colab": {
          "base_uri": "https://localhost:8080/",
          "height": 483
        }
      },
      "source": [
        "plt.figure(figsize=(8,8))\n",
        "sns.scatterplot(x=pred_rfr_mt, y=y_teste)\n",
        "plt.xlim((-50, 1050))\n",
        "plt.ylim((-50, 1050));"
      ],
      "execution_count": 23,
      "outputs": [
        {
          "output_type": "display_data",
          "data": {
            "image/png": "[encoded data removed]",
            "text/plain": [
              "<Figure size 576x576 with 1 Axes>"
            ]
          },
          "metadata": {
            "tags": [],
            "needs_background": "light"
          }
        }
      ]
    },
    {
      "cell_type": "code",
      "metadata": {
        "id": "BIlVa2ObMRFt",
        "outputId": "14de2e1a-cd66-42c4-d9a9-a4f3bb333906",
        "colab": {
          "base_uri": "https://localhost:8080/",
          "height": 419
        }
      },
      "source": [
        "resultados = pd.DataFrame()\n",
        "resultados['Real'] = y_teste\n",
        "resultados['Previsao'] = pred_rfr_mt\n",
        "resultados['Diferenca'] = resultados['Real']  - resultados['Previsao'] \n",
        "resultados['Diferenca_quadrado'] = (resultados['Real']  - resultados['Previsao'])**2\n",
        "resultados"
      ],
      "execution_count": 27,
      "outputs": [
        {
          "output_type": "execute_result",
          "data": {
            "text/html": [
              "<div>\n",
              "<style scoped>\n",
              "    .dataframe tbody tr th:only-of-type {\n",
              "        vertical-align: middle;\n",
              "    }\n",
              "\n",
              "    .dataframe tbody tr th {\n",
              "        vertical-align: top;\n",
              "    }\n",
              "\n",
              "    .dataframe thead th {\n",
              "        text-align: right;\n",
              "    }\n",
              "</style>\n",
              "<table border=\"1\" class=\"dataframe\">\n",
              "  <thead>\n",
              "    <tr style=\"text-align: right;\">\n",
              "      <th></th>\n",
              "      <th>Real</th>\n",
              "      <th>Previsao</th>\n",
              "      <th>Diferenca</th>\n",
              "      <th>Diferenca_quadrado</th>\n",
              "    </tr>\n",
              "  </thead>\n",
              "  <tbody>\n",
              "    <tr>\n",
              "      <th>101775</th>\n",
              "      <td>424.3</td>\n",
              "      <td>521.396</td>\n",
              "      <td>-97.096</td>\n",
              "      <td>9427.633216</td>\n",
              "    </tr>\n",
              "    <tr>\n",
              "      <th>35117</th>\n",
              "      <td>527.6</td>\n",
              "      <td>631.326</td>\n",
              "      <td>-103.726</td>\n",
              "      <td>10759.083076</td>\n",
              "    </tr>\n",
              "    <tr>\n",
              "      <th>61432</th>\n",
              "      <td>457.6</td>\n",
              "      <td>615.689</td>\n",
              "      <td>-158.089</td>\n",
              "      <td>24992.131921</td>\n",
              "    </tr>\n",
              "    <tr>\n",
              "      <th>85130</th>\n",
              "      <td>578.3</td>\n",
              "      <td>589.865</td>\n",
              "      <td>-11.565</td>\n",
              "      <td>133.749225</td>\n",
              "    </tr>\n",
              "    <tr>\n",
              "      <th>30184</th>\n",
              "      <td>425.7</td>\n",
              "      <td>419.303</td>\n",
              "      <td>6.397</td>\n",
              "      <td>40.921609</td>\n",
              "    </tr>\n",
              "    <tr>\n",
              "      <th>...</th>\n",
              "      <td>...</td>\n",
              "      <td>...</td>\n",
              "      <td>...</td>\n",
              "      <td>...</td>\n",
              "    </tr>\n",
              "    <tr>\n",
              "      <th>86406</th>\n",
              "      <td>490.2</td>\n",
              "      <td>549.078</td>\n",
              "      <td>-58.878</td>\n",
              "      <td>3466.618884</td>\n",
              "    </tr>\n",
              "    <tr>\n",
              "      <th>117096</th>\n",
              "      <td>418.5</td>\n",
              "      <td>467.986</td>\n",
              "      <td>-49.486</td>\n",
              "      <td>2448.864196</td>\n",
              "    </tr>\n",
              "    <tr>\n",
              "      <th>96111</th>\n",
              "      <td>799.0</td>\n",
              "      <td>756.337</td>\n",
              "      <td>42.663</td>\n",
              "      <td>1820.131569</td>\n",
              "    </tr>\n",
              "    <tr>\n",
              "      <th>11623</th>\n",
              "      <td>427.3</td>\n",
              "      <td>462.084</td>\n",
              "      <td>-34.784</td>\n",
              "      <td>1209.926656</td>\n",
              "    </tr>\n",
              "    <tr>\n",
              "      <th>36300</th>\n",
              "      <td>422.3</td>\n",
              "      <td>446.090</td>\n",
              "      <td>-23.790</td>\n",
              "      <td>565.964100</td>\n",
              "    </tr>\n",
              "  </tbody>\n",
              "</table>\n",
              "<p>23135 rows × 4 columns</p>\n",
              "</div>"
            ],
            "text/plain": [
              "         Real  Previsao  Diferenca  Diferenca_quadrado\n",
              "101775  424.3   521.396    -97.096         9427.633216\n",
              "35117   527.6   631.326   -103.726        10759.083076\n",
              "61432   457.6   615.689   -158.089        24992.131921\n",
              "85130   578.3   589.865    -11.565          133.749225\n",
              "30184   425.7   419.303      6.397           40.921609\n",
              "...       ...       ...        ...                 ...\n",
              "86406   490.2   549.078    -58.878         3466.618884\n",
              "117096  418.5   467.986    -49.486         2448.864196\n",
              "96111   799.0   756.337     42.663         1820.131569\n",
              "11623   427.3   462.084    -34.784         1209.926656\n",
              "36300   422.3   446.090    -23.790          565.964100\n",
              "\n",
              "[23135 rows x 4 columns]"
            ]
          },
          "metadata": {
            "tags": []
          },
          "execution_count": 27
        }
      ]
    },
    {
      "cell_type": "code",
      "metadata": {
        "id": "7NGDksvONDmq",
        "outputId": "1e9f2a52-d56f-4208-f61d-5d8b4a6ff314",
        "colab": {
          "base_uri": "https://localhost:8080/",
          "height": 34
        }
      },
      "source": [
        "resultados['Diferenca_quadrado'].mean()"
      ],
      "execution_count": 29,
      "outputs": [
        {
          "output_type": "execute_result",
          "data": {
            "text/plain": [
              "5767.325445152499"
            ]
          },
          "metadata": {
            "tags": []
          },
          "execution_count": 29
        }
      ]
    },
    {
      "cell_type": "code",
      "metadata": {
        "id": "aPA3POZ8NHc0",
        "outputId": "d1f448cb-9d87-4497-f272-f1a70298e944",
        "colab": {
          "base_uri": "https://localhost:8080/",
          "height": 34
        }
      },
      "source": [
        "resultados['Diferenca_quadrado'].mean()**(1/2)"
      ],
      "execution_count": 30,
      "outputs": [
        {
          "output_type": "execute_result",
          "data": {
            "text/plain": [
              "75.94290911699721"
            ]
          },
          "metadata": {
            "tags": []
          },
          "execution_count": 30
        }
      ]
    },
    {
      "cell_type": "markdown",
      "metadata": {
        "id": "8SI-RLREAc4w"
      },
      "source": [
        "### Desafio 02: Ler a documentação do Dummy e alterar o método de regressão\n",
        "\n"
      ]
    },
    {
      "cell_type": "code",
      "metadata": {
        "id": "wq7NRufqAeUm"
      },
      "source": [
        "# usando DummyRegressor\n",
        "from sklearn.dummy import DummyRegressor\n",
        "# criando o modelo\n",
        "modelo_dummy = DummyRegressor(strategy = 'median', constant=None, quantile=None)"
      ],
      "execution_count": 31,
      "outputs": []
    },
    {
      "cell_type": "code",
      "metadata": {
        "id": "ppmNBqnCO6G_",
        "outputId": "fa1c288b-9a96-49aa-833a-a75cf3f8ff07",
        "colab": {
          "base_uri": "https://localhost:8080/",
          "height": 34
        }
      },
      "source": [
        "modelo_dummy.fit(x_treino, y_treino)"
      ],
      "execution_count": 32,
      "outputs": [
        {
          "output_type": "execute_result",
          "data": {
            "text/plain": [
              "DummyRegressor(constant=None, quantile=None, strategy='median')"
            ]
          },
          "metadata": {
            "tags": []
          },
          "execution_count": 32
        }
      ]
    },
    {
      "cell_type": "code",
      "metadata": {
        "id": "tEfDBXjxO-56"
      },
      "source": [
        "pred_dummyrg_mt = modelo_dummy.predict(x_teste)"
      ],
      "execution_count": 33,
      "outputs": []
    },
    {
      "cell_type": "code",
      "metadata": {
        "id": "2VywoVctPUBh",
        "outputId": "07d39486-abcb-44dd-8544-8c20fe849a21",
        "colab": {
          "base_uri": "https://localhost:8080/",
          "height": 34
        }
      },
      "source": [
        "from sklearn.metrics import mean_squared_error\n",
        "\n",
        "mean_squared_error(y_teste, pred_dummyrg_mt)"
      ],
      "execution_count": 34,
      "outputs": [
        {
          "output_type": "execute_result",
          "data": {
            "text/plain": [
              "12359.504641452344"
            ]
          },
          "metadata": {
            "tags": []
          },
          "execution_count": 34
        }
      ]
    },
    {
      "cell_type": "markdown",
      "metadata": {
        "id": "1sHQ1h7eAlcR"
      },
      "source": [
        "### Desafio03: Buscar outra métrica para avaliar modelos de regressão\n"
      ]
    },
    {
      "cell_type": "code",
      "metadata": {
        "id": "9K-FEgb2Amsb",
        "outputId": "0ccae1c3-3b9d-4878-e435-ae30e7c3e8ea",
        "colab": {
          "base_uri": "https://localhost:8080/",
          "height": 34
        }
      },
      "source": [
        "# usndo metrica - mean_absolute_error\n",
        "from sklearn.metrics import mean_absolute_error\n",
        "mean_absolute_error(y_teste, pred_dummyrg_mt)"
      ],
      "execution_count": 37,
      "outputs": [
        {
          "output_type": "execute_result",
          "data": {
            "text/plain": [
              "88.55129457531879"
            ]
          },
          "metadata": {
            "tags": []
          },
          "execution_count": 37
        }
      ]
    },
    {
      "cell_type": "code",
      "metadata": {
        "id": "Gq4yPvtHRFyH",
        "outputId": "d382c447-7526-4059-bfe9-987f425f3082",
        "colab": {
          "base_uri": "https://localhost:8080/",
          "height": 34
        }
      },
      "source": [
        "mean_absolute_error(y_teste, pred_rfr_mt)"
      ],
      "execution_count": 38,
      "outputs": [
        {
          "output_type": "execute_result",
          "data": {
            "text/plain": [
              "60.73762373027879"
            ]
          },
          "metadata": {
            "tags": []
          },
          "execution_count": 38
        }
      ]
    },
    {
      "cell_type": "code",
      "metadata": {
        "id": "5Fm7hhyWRWHl",
        "outputId": "e52f1a0a-096e-4798-ddd1-6ec49d226dff",
        "colab": {
          "base_uri": "https://localhost:8080/",
          "height": 34
        }
      },
      "source": [
        "# usando metricar 2_score\n",
        "from sklearn.metrics import r2_score\n",
        "r2_score(y_teste, pred_dummyrg_mt)"
      ],
      "execution_count": 39,
      "outputs": [
        {
          "output_type": "execute_result",
          "data": {
            "text/plain": [
              "-0.04282295756858234"
            ]
          },
          "metadata": {
            "tags": []
          },
          "execution_count": 39
        }
      ]
    },
    {
      "cell_type": "code",
      "metadata": {
        "id": "khQe0Xf4Riyk",
        "outputId": "106109e7-9292-4d24-f0ac-79548c301401",
        "colab": {
          "base_uri": "https://localhost:8080/",
          "height": 34
        }
      },
      "source": [
        "r2_score(y_teste, pred_rfr_mt)"
      ],
      "execution_count": 40,
      "outputs": [
        {
          "output_type": "execute_result",
          "data": {
            "text/plain": [
              "0.5133866969228522"
            ]
          },
          "metadata": {
            "tags": []
          },
          "execution_count": 40
        }
      ]
    }
  ]
}